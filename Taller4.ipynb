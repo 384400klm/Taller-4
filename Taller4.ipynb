{
  "nbformat": 4,
  "nbformat_minor": 0,
  "metadata": {
    "colab": {
      "provenance": [],
      "authorship_tag": "ABX9TyMYiLfBGWjs6WYISShtAohE",
      "include_colab_link": true
    },
    "kernelspec": {
      "name": "python3",
      "display_name": "Python 3"
    },
    "language_info": {
      "name": "python"
    }
  },
  "cells": [
    {
      "cell_type": "markdown",
      "metadata": {
        "id": "view-in-github",
        "colab_type": "text"
      },
      "source": [
        "<a href=\"https://colab.research.google.com/github/384400klm/Taller-4/blob/main/Taller4.ipynb\" target=\"_parent\"><img src=\"https://colab.research.google.com/assets/colab-badge.svg\" alt=\"Open In Colab\"/></a>"
      ]
    },
    {
      "cell_type": "code",
      "execution_count": null,
      "metadata": {
        "id": "5N2gKR_tNNEG"
      },
      "outputs": [],
      "source": []
    },
    {
      "cell_type": "markdown",
      "source": [
        "## Problema N°3\n",
        "- Juego de Cara o Sello\n",
        "Crea un programa que permita jugar a \"Cara o Sello\" con el usuario. El programa seleccionará de\n",
        "manera aleatoria \"cara\" o \"sello\" y luego pedirá al usuario que haga su adivinanza. Si acierta, se le\n",
        "sumará un punto. Si falla, tendrá tres intentos antes de que el juego termine. Al finalizar el juego, se le\n",
        "mostrará al usuario la cantidad de puntos obtenidos y se le preguntará si quiere jugar de nuevo. Si el\n",
        "usuario elige \"sí\", el juego se reinicia. Si elige \"no\", el programa finaliza.\n",
        "\n",
        "\n",
        "### Algoritmo\n",
        "\n",
        "1. Iniciar\n",
        "2. Designar intentos y puntos\n",
        "3. seleccionar aletoriamente cara o sello\n",
        "4. pedir a la persona que intente adivinar\n",
        "5. comprabar si la adivinanza es correcta\n",
        "6. si es correcta sumar 1 punto\n",
        "7. si no es correcta quitar un intento\n",
        "8. repetir paso 6 y 7 hasta acabar intentos\n",
        "9. mostrar puntos ganados\n",
        "10. preguntar al usuario si quiere jugar nuevamente\n",
        "11. si la respuesta es si, reiniciar el juego\n",
        "\n",
        "\n",
        "### Pseudocódigo\n",
        "\n",
        "inicio\n",
        "// programa para adivinar cara o sello\n",
        "\n",
        "declare input puntos\n",
        "declare input seleccion\n",
        "declare string eleccion\n",
        "declare string adivinanza\n",
        "\n",
        "while intentos >0\n",
        "\n",
        "//seleccionar aleatoreamente cara o sello\n",
        "eleccion = aleatorio ( cara o sello)\n",
        "\n",
        "Display \"adivine cara o sello\"\n",
        "input adivinanza\n",
        "\n",
        "\n",
        "If adivinanza == elecion then\n",
        "puntos = puntos 1\n",
        "Display \"Correcto\"\n",
        "Else\n",
        "intentos = intentos - 1\n",
        "\n",
        "Display \"incorrecto, te quedan\"; \"intentos\", \"intentos\"\n",
        "\n",
        "End if\n",
        "End while\n",
        "\n",
        "Display \"tienes 0 intentos\" \"has conseguido \"puntos\", \"puntos\"\n",
        "\n",
        "//preguntar si quiere jugar de nuevo\n",
        "Display \"¡quiere jugar de nuevo? (s/n)\"\n",
        "input respuesta\n",
        "\n",
        "if respuesta == \"si\" then\n",
        "puntos = 0\n",
        "intentos = 3\n",
        "\n",
        "Else\n",
        "Display \"gracias por jugar\"\n",
        "end if\n",
        "\n",
        "End\n",
        "\n",
        "\n"
      ],
      "metadata": {
        "id": "gi-Dg4NGOWq8"
      }
    },
    {
      "cell_type": "code",
      "source": [
        "import random\n",
        "\n",
        "def juego_cara_sello():\n",
        "  puntos = 0\n",
        "  intentos = 3\n",
        "  jugar = True\n",
        "\n",
        "  while jugar:\n",
        "    seleccion = random.choice([\"cara\", \"sello\"])\n",
        "    adivinanza = input(\"Adivine: cara o sello: \")\n",
        "    if adivinanza == seleccion:\n",
        "      puntos += 1\n",
        "      print(f\"¡Correcto! Tienes {puntos} puntos.\")\n",
        "    else:\n",
        "      intentos -= 1\n",
        "      print(f\"Incorrecto. Te quedan {intentos} intentos.\")\n",
        "    if intentos == 0:\n",
        "      print(f\"Te has quedado sin intentos. Has conseguido {puntos} puntos.\")\n",
        "      jugar = False\n",
        "\n",
        "  respuesta = input(\"¿Quieres jugar de nuevo? (sí/no): \")\n",
        "  if respuesta.lower() == \"sí\":\n",
        "    puntos = 0\n",
        "    intentos = 3\n",
        "    juego_cara_sello()\n",
        "\n",
        "juego_cara_sello()"
      ],
      "metadata": {
        "colab": {
          "base_uri": "https://localhost:8080/"
        },
        "id": "8SmBzGiHca_s",
        "outputId": "46c779fe-bb14-4274-894b-9180f17ff9f6"
      },
      "execution_count": 1,
      "outputs": [
        {
          "name": "stdout",
          "output_type": "stream",
          "text": [
            "Adivine: cara o sello: cara\n",
            "¡Correcto! Tienes 1 puntos.\n",
            "Adivine: cara o sello: sello\n",
            "¡Correcto! Tienes 2 puntos.\n",
            "Adivine: cara o sello: sello\n",
            "Incorrecto. Te quedan 2 intentos.\n",
            "Adivine: cara o sello: cara\n",
            "¡Correcto! Tienes 3 puntos.\n",
            "Adivine: cara o sello: sello\n",
            "¡Correcto! Tienes 4 puntos.\n",
            "Adivine: cara o sello: sello\n",
            "Incorrecto. Te quedan 1 intentos.\n",
            "Adivine: cara o sello: sello\n",
            "¡Correcto! Tienes 5 puntos.\n",
            "Adivine: cara o sello: cara\n",
            "Incorrecto. Te quedan 0 intentos.\n",
            "Te has quedado sin intentos. Has conseguido 5 puntos.\n",
            "¿Quieres jugar de nuevo? (sí/no): n\n"
          ]
        }
      ]
    },
    {
      "cell_type": "code",
      "source": [],
      "metadata": {
        "id": "IRAdOvopcb31"
      },
      "execution_count": null,
      "outputs": []
    }
  ]
}